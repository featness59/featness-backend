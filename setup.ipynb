{
 "cells": [
  {
   "cell_type": "code",
   "execution_count": null,
   "metadata": {},
   "outputs": [],
   "source": [
    "from sqlalchemy import create_engine\n",
    "from sqlalchemy_utils import database_exists, create_database\n",
    "\n",
    "engine = create_engine(\"postgres://localhost/mydb\")\n",
    "if not database_exists(engine.url):\n",
    "    create_database(engine.url)\n",
    "\n",
    "print(database_exists(engine.url))"
   ]
  },
  {
   "cell_type": "code",
   "execution_count": 1,
   "metadata": {},
   "outputs": [],
   "source": [
    "from sqlalchemy import create_engine, engine\n",
    "from sqlalchemy.ext.declarative import declarative_base\n",
    "from sqlalchemy.orm import sessionmaker\n",
    "import os\n",
    "import psycopg2\n",
    "from dotenv import load_dotenv\n",
    "load_dotenv(override=True)\n",
    "\n",
    "\n",
    "SQLALCHEMY_DATABASE_URL = os.getenv(\"DATABASE_URL\").replace('postgres://','postgresql://')\n",
    "\n",
    "engine = create_engine(SQLALCHEMY_DATABASE_URL)\n",
    "\n",
    "SessionLocal = sessionmaker(bind=engine, autocommit=False, autoflush=False)\n",
    "Base = declarative_base()\n",
    "\n",
    "def get_db():\n",
    "    db = SessionLocal()\n",
    "    try:\n",
    "        yield db\n",
    "    finally:\n",
    "        db.close()"
   ]
  },
  {
   "cell_type": "code",
   "execution_count": 2,
   "metadata": {},
   "outputs": [
    {
     "ename": "ImportError",
     "evalue": "attempted relative import with no known parent package",
     "output_type": "error",
     "traceback": [
      "\u001b[1;31m---------------------------------------------------------------------------\u001b[0m",
      "\u001b[1;31mImportError\u001b[0m                               Traceback (most recent call last)",
      "\u001b[1;32mc:\\Users\\Apprenant\\Desktop\\featness-backend\\setup.ipynb Cellule 3\u001b[0m in \u001b[0;36m<module>\u001b[1;34m\u001b[0m\n\u001b[0;32m      <a href='vscode-notebook-cell:/c%3A/Users/Apprenant/Desktop/featness-backend/setup.ipynb#ch0000002?line=3'>4</a>\u001b[0m \u001b[39mfrom\u001b[39;00m \u001b[39mfastapi_jwt_auth\u001b[39;00m \u001b[39mimport\u001b[39;00m AuthJWT\n\u001b[0;32m      <a href='vscode-notebook-cell:/c%3A/Users/Apprenant/Desktop/featness-backend/setup.ipynb#ch0000002?line=4'>5</a>\u001b[0m \u001b[39mfrom\u001b[39;00m \u001b[39mApp\u001b[39;00m\u001b[39m.\u001b[39;00m\u001b[39mdatabase\u001b[39;00m \u001b[39mimport\u001b[39;00m get_db\n\u001b[1;32m----> <a href='vscode-notebook-cell:/c%3A/Users/Apprenant/Desktop/featness-backend/setup.ipynb#ch0000002?line=5'>6</a>\u001b[0m \u001b[39mfrom\u001b[39;00m \u001b[39m.\u001b[39;00m\u001b[39m.\u001b[39;00m \u001b[39mimport\u001b[39;00m schemas, models\n\u001b[0;32m      <a href='vscode-notebook-cell:/c%3A/Users/Apprenant/Desktop/featness-backend/setup.ipynb#ch0000002?line=8'>9</a>\u001b[0m router \u001b[39m=\u001b[39m APIRouter(tags\u001b[39m=\u001b[39m[\u001b[39m'\u001b[39m\u001b[39mUsers\u001b[39m\u001b[39m'\u001b[39m], prefix\u001b[39m=\u001b[39m\u001b[39m\"\u001b[39m\u001b[39m/users\u001b[39m\u001b[39m\"\u001b[39m)\n\u001b[0;32m     <a href='vscode-notebook-cell:/c%3A/Users/Apprenant/Desktop/featness-backend/setup.ipynb#ch0000002?line=10'>11</a>\u001b[0m \u001b[39mdef\u001b[39;00m \u001b[39mget_all_users\u001b[39m(db: Session \u001b[39m=\u001b[39m Depends(get_db)):\n",
      "\u001b[1;31mImportError\u001b[0m: attempted relative import with no known parent package"
     ]
    }
   ],
   "source": [
    "from fastapi import APIRouter, status, HTTPException\n",
    "from sqlalchemy.orm import Session\n",
    "from fastapi.params import Depends\n",
    "from fastapi_jwt_auth import AuthJWT\n",
    "from App.database import get_db\n",
    "from .. import schemas, models\n",
    "\n",
    "\n",
    "router = APIRouter(tags=['Users'], prefix=\"/users\")\n",
    "\n",
    "def get_all_users(db: Session = Depends(get_db)):\n",
    "    \"\"\"_summary_\n",
    "       Get a json with all bird \n",
    "    \"\"\"\n",
    "    users = db.query(models.Users).all()\n",
    "    return users\n"
   ]
  },
  {
   "cell_type": "code",
   "execution_count": null,
   "metadata": {},
   "outputs": [],
   "source": []
  }
 ],
 "metadata": {
  "kernelspec": {
   "display_name": "Python 3.8.8 ('machine_learning')",
   "language": "python",
   "name": "python3"
  },
  "language_info": {
   "codemirror_mode": {
    "name": "ipython",
    "version": 3
   },
   "file_extension": ".py",
   "mimetype": "text/x-python",
   "name": "python",
   "nbconvert_exporter": "python",
   "pygments_lexer": "ipython3",
   "version": "3.8.8"
  },
  "orig_nbformat": 4,
  "vscode": {
   "interpreter": {
    "hash": "4007dc9227cb154b73697ab3ac87b59bec1d89816fd4d229fe838de66af52abf"
   }
  }
 },
 "nbformat": 4,
 "nbformat_minor": 2
}
